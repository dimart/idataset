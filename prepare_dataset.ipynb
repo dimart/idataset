{
 "cells": [
  {
   "cell_type": "markdown",
   "metadata": {},
   "source": [
    "# 1. Generate TFRecord train and test files from annotated images"
   ]
  },
  {
   "cell_type": "code",
   "execution_count": null,
   "metadata": {},
   "outputs": [],
   "source": [
    "import os\n",
    "import random\n",
    "import glob\n",
    "\n",
    "from convert_utils import create_tf_record\n",
    "from object_detection.utils import label_map_util"
   ]
  },
  {
   "cell_type": "code",
   "execution_count": null,
   "metadata": {},
   "outputs": [],
   "source": [
    "random.seed(42)"
   ]
  },
  {
   "cell_type": "code",
   "execution_count": null,
   "metadata": {},
   "outputs": [],
   "source": [
    "dataset_path = \"./\"\n",
    "images_path = os.path.join(dataset_path, \"Images\")\n",
    "annotations_path = os.path.join(dataset_path, \"Annotations\")\n",
    "label_map_path = os.path.join(dataset_path, \"label_map.pbtxt\")\n",
    "\n",
    "train_output_path = os.path.join(dataset_path, \"train.record\")\n",
    "test_output_path = os.path.join(dataset_path, \"test.record\")"
   ]
  },
  {
   "cell_type": "code",
   "execution_count": null,
   "metadata": {},
   "outputs": [],
   "source": [
    "examples_list = [os.path.splitext(fname)[0] for fname in os.listdir(annotations_path)]\n",
    "random.shuffle(examples_list)\n",
    "num_examples = len(examples_list)\n",
    "num_train = int(0.9 * num_examples)\n",
    "train_examples = examples_list[:num_train]\n",
    "test_examples = examples_list[num_train:]\n",
    "print('%d training and %d test examples.' % (len(train_examples), len(test_examples)))"
   ]
  },
  {
   "cell_type": "code",
   "execution_count": null,
   "metadata": {},
   "outputs": [],
   "source": [
    "label_map_dict = label_map_util.get_label_map_dict(label_map_path)"
   ]
  },
  {
   "cell_type": "code",
   "execution_count": null,
   "metadata": {},
   "outputs": [],
   "source": [
    "create_tf_record(train_output_path, \n",
    "                 label_map_dict,\n",
    "                 annotations_path,\n",
    "                 images_path,\n",
    "                 train_examples)"
   ]
  },
  {
   "cell_type": "code",
   "execution_count": null,
   "metadata": {},
   "outputs": [],
   "source": [
    "create_tf_record(test_output_path, \n",
    "                 label_map_dict,\n",
    "                 annotations_path,\n",
    "                 images_path,\n",
    "                 test_examples)"
   ]
  },
  {
   "cell_type": "code",
   "execution_count": null,
   "metadata": {},
   "outputs": [],
   "source": [
    "train_output_path_txt = train_output_path.replace(\".record\", \".txt\")\n",
    "with open(train_output_path_txt, \"w\") as fid:\n",
    "    for img_name in train_examples:\n",
    "        fid.write(img_name + \"\\n\")\n",
    "print(\"Saved train image names to\", train_output_path_txt)"
   ]
  },
  {
   "cell_type": "code",
   "execution_count": null,
   "metadata": {},
   "outputs": [],
   "source": [
    "test_output_path_txt = test_output_path.replace(\".record\", \".txt\")\n",
    "with open(test_output_path_txt, \"w\") as fid:\n",
    "    for img_name in test_examples:\n",
    "        fid.write(img_name + \"\\n\")\n",
    "print(\"Saved test image names to\", test_output_path_txt)"
   ]
  },
  {
   "cell_type": "code",
   "execution_count": null,
   "metadata": {},
   "outputs": [],
   "source": []
  }
 ],
 "metadata": {
  "kernelspec": {
   "display_name": "Python 3",
   "language": "python",
   "name": "python3"
  },
  "language_info": {
   "codemirror_mode": {
    "name": "ipython",
    "version": 3
   },
   "file_extension": ".py",
   "mimetype": "text/x-python",
   "name": "python",
   "nbconvert_exporter": "python",
   "pygments_lexer": "ipython3",
   "version": "3.5.2"
  }
 },
 "nbformat": 4,
 "nbformat_minor": 2
}
